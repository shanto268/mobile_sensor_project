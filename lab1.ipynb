{
 "cells": [
  {
   "cell_type": "markdown",
   "id": "sapphire-lightning",
   "metadata": {
    "cell_style": "center"
   },
   "source": [
    "# Solar Panel Project Log Book\n",
    "\n",
    "**Sadman Ahmed Shanto**\n",
    "\n",
    "---\n",
    "\n",
    "---\n",
    "## Table of Contents:\n",
    "* Background and Theory of Solar Panels\n",
    "* Experiment 1\n",
    "* Experiment 2\n",
    "* Project Questions\n",
    "* Conclusion & Summary\n",
    "---\n",
    "\n",
    "# Background and Theory:\n",
    "\n",
    "Semiconductor solar cells are fundamentally quite simple devices. Semiconductors have the capacity to absorb light and to deliver a portion of the energy of the absorbed photons to carriers of electrical current – electrons and holes. A semiconductor diode separates and collects the carriers and conducts the generated electrical current preferentially in a specific direction. Thus, a solar cell is simply a semiconductor diode that has been carefully designed and constructed to efficiently absorb and convert light energy from the sun into electrical energy.\n",
    "\n",
    "A simple conventional solar cell structure is depicted in Figure 1. Sunlight is incident from the top, on the front of the solar cell. A metallic grid forms one of the electrical contacts of the diode and allows light to fall on the semiconductor between the grid lines and thus be absorbed and converted into electrical energy. An antireflective layer between the grid lines increases the amount of light transmitted to the semiconductor. The semiconductor diode is fashioned when an n-type semiconductor and a p-type semiconductor are brought together to form a metallurgical junction. This is typically achieved through diffusion or implantation of specific impurities (dopants) or via a deposition process. The diode’s other electrical contact is formed by a metallic layer on the back of the solar cell.\n",
    "\n",
    "<figure>\n",
    "  <img src=\"fig1.png\" alt=\"Trulli\" style=\"width:100%\">\n",
    "  <figcaption>Fig.1 - A schematic of a simple conventional solar cell. Creation of electron–hole pairs, e− and h+, respectively, is depicted.</figcaption>\n",
    "</figure>\n",
    "\n",
    "All electromagnetic radiation, including sunlight, can be viewed as being composed of particles called photons which carry specific amounts of energy determined by the spectral properties of their source. Photons also exhibit a wavelike character with the wavelength, $\\lambda$, being related to the photon energy $E_\\lambda$ by\n",
    "\n",
    "$$E_\\lambda = \\frac{hc}{\\lambda}$$\n",
    "\n",
    "where h is Plank’s constant and c is the speed of light. Only photons with sufficient energy to create an electron–hole pair, that is, those with energy greater than the semiconductor bandgap ($E_G$), will contribute to the energy conversion process. Thus, the spectral composition of sunlight is an important consideration in the design of efficient solar cells.\n",
    "\n",
    "\n",
    "## Experiments Chosen: \n",
    "\n",
    "1. V vs I, V vs P measurement\n",
    "2. Effect of shadow on efficiency\n",
    "\n",
    "\n",
    "## Experiments Advice:\n",
    "\n",
    "For each experiment be sure to record what time of day, weather, cloud coverage etc. Any environmental incidences that can help explain your results."
   ]
  },
  {
   "cell_type": "markdown",
   "id": "banned-merchant",
   "metadata": {},
   "source": [
    "# Experiment 1: V vs I, V vs P Measurement\n",
    "\n",
    "The objective of this experiment as defined by the manual is to measure the maximum power you can receive from the panel.\n",
    "\n",
    "We need to design a circuit to compute output power."
   ]
  },
  {
   "cell_type": "markdown",
   "id": "exciting-average",
   "metadata": {},
   "source": [
    "## Theory\n",
    "\n",
    "We the theoretical maximum power $P_{theo} = 100 W$ and the maximum open circuit voltage $V_{oc} = 21.6 V$. Therefore, the theoretical resistance for maximum power should be\n",
    "\n",
    "$$ R_{theo} = \\frac{{V_{oc}^2}}{P_{theo}} = 4.6656 \\Omega  $$\n",
    "\n",
    "### Solar Panel Info:\n",
    "\n",
    "Manufacturer Info             |  Solar Panel Used\n",
    ":-------------------------:|:-------------------------:\n",
    "![](sp_1.jpeg)  |  ![](sp_4.jpeg)\n",
    "<figcaption>Fig.2. Solar Panel Info</figcaption>"
   ]
  },
  {
   "cell_type": "markdown",
   "id": "accurate-track",
   "metadata": {},
   "source": [
    "## Methodology:\n",
    "\n",
    "We are planning on varying the resistance source from short-circuit to open-circuit with 0 to 10 Ohm resistors connected to the circuit.\n",
    "\n",
    "For each resistor connected, we measure the current and voltage. We calculate power using the following formula:\n",
    "\n",
    "$$P = IV$$\n",
    "\n",
    "We aim to repeat each reading 3 times to ensure accuracy of results and plan to tabulate all our data. Using this tabular data we would create the required **V vs I** and **V vs P** plots.\n",
    "\n",
    "---"
   ]
  },
  {
   "cell_type": "markdown",
   "id": "ecological-caribbean",
   "metadata": {},
   "source": [
    "## Day 1 (01/25/21):\n",
    "\n",
    "We are struggling to decide on the range of resistors needed. We are using the multimeter to figure out what each resistor is. Plans of using resistors in parallel are discussed to get small resistors since they were not available. This information is needed so that we don't fry the circuit.\n",
    "\n",
    "The resistors available to us are - 10 (3), 14, 25, 27, 40, 50, 68, 75, 100. We are gonna be using resistors in parallel to replicate smaller resistors. \n",
    "\n",
    "Imtiaz asked us to wait to get the smaller resistors as some other lab group is using them.\n",
    "\n",
    "After an hour of trying to find the resistors/making parallel resistors. Kim gave us his set of small resistors.\n",
    "\n",
    "Resistors Avalailable in Room          |  Kim's Resistor Set\n",
    ":-------------------------:|:-------------------------:\n",
    "![](sp_2a.jpeg)  |  ![](sp_2.jpeg)\n",
    "<figcaption>Fig.3: Available resistors</figcaption>\n",
    "\n",
    "We are now using the following resistors:\n"
   ]
  },
  {
   "cell_type": "code",
   "execution_count": 10,
   "id": "incoming-coordinate",
   "metadata": {},
   "outputs": [],
   "source": [
    "r_sets = [1,1.5,2.2,3.3,3.9,4.3,4.7,5.1,6.2,7.5,8.2,9.1,10]"
   ]
  },
  {
   "cell_type": "markdown",
   "id": "complete-punch",
   "metadata": {},
   "source": [
    "We are trying to understand how to safely connect the load to the solar panel. Experimenting with the panel in the room was giving us inconclusive results so we came outside trying to verify that our understanding is correct.\n",
    "\n",
    "The time is 1:33 PM and the weather log is:\n",
    "\n",
    "We have verified our open circuit voltage (21.4 V found experimentally). \n",
    "\n",
    "|![out](sp_3.jpeg)|\n",
    "|:--:| \n",
    "<figcaption>Fig.4:  Image of Sunlight on our test run</figcaption>\n",
    "\n",
    "\n",
    "\n",
    "However, we have ran into our first problem.\n",
    "\n",
    "### Problem 1:\n",
    "\n",
    "The resistor when we connected to the circuit started to burn. This made us realize that the wattage for the resistors we recieved from Kim was $0.5$ which was way too small for our experiment.\n",
    "\n",
    "### Resolution 1:\n",
    "\n",
    "Since, we know that the maximum power attainable from this system is $100 W$. We need resistors that are $100 W$ or more.\n",
    "\n",
    "Luckily, we ran into Kim and he gave us resistors of higher wattage (the ones we were looking for all along). \n",
    "\n",
    "We chose the $10 \\Omega$ variable resistor for our experiment."
   ]
  },
  {
   "cell_type": "markdown",
   "id": "scheduled-pharmacy",
   "metadata": {},
   "source": [
    "We plan on taking data with these new resistors our next day in the lab.\n",
    "\n",
    "### Notes for Instructors:\n",
    "- Having sticky notes in the lab would be very helpful"
   ]
  },
  {
   "cell_type": "markdown",
   "id": "sublime-rainbow",
   "metadata": {},
   "source": [
    "## Day 2 (01/27/21):\n",
    "\n",
    "We plan using the rheostat and the multimeter to mark resistances in increasing magnitudes of $1 \\Omega$.\n",
    "\n",
    "|![out](rheo.jpeg)|\n",
    "|:--:| \n",
    "<figcaption>Fig.5:  Rheostat</figcaption>\n",
    "\n",
    "\n",
    "\n",
    "run 1: 12:42 PM\n",
    "\n",
    "verified at max potential\n",
    "\n",
    "\n",
    "Sun Angle             |  Set Up\n",
    ":-------------------------:|:-------------------------:\n",
    "![](sun.jpeg)  |  ![](setup.jpeg)\n",
    "<figcaption>Fig.6: Experimental Set Up</figcaption>\n",
    "\n",
    "\n",
    "\n",
    "\n",
    "Circuit Used            |  Circuit Schema\n",
    ":-------------------------:|:-------------------------:\n",
    "![](circuit.jpeg)  |  ![](circ2.jpeg)\n",
    "<figcaption>Fig.7: Circuit Used to make measurements</figcaption>"
   ]
  },
  {
   "cell_type": "code",
   "execution_count": 1,
   "id": "cordless-toddler",
   "metadata": {},
   "outputs": [],
   "source": [
    "R = [1.5,2.1,3.4,3.7,4,4.4,4.7,5,5.5,6,7,8,9,10.5,12,17.2,25.2]\n",
    "V = [2.72,7.18,15.1,13,14.1,15.7,16.5,17.1,17.66,18.26,18.98,19.6,19.58,19.78,20.5,20.2]\n",
    "I = [3.91,3.89,3.87,3.85,3.82,3.77,3.69,3.58,3.39,3.17,2.72,2.65,2.42,2.18,1.72,1.16]\n",
    "P = np.array(I)*np.array(V)"
   ]
  },
  {
   "cell_type": "code",
   "execution_count": 2,
   "id": "charged-riverside",
   "metadata": {},
   "outputs": [],
   "source": [
    "v_uncertainty = [0.01 for i in range(len(V))]\n",
    "i_uncertainty = [0.01 for i in range(len(I))]\n",
    "\n",
    "def uncertainty(result,val1,val2,u1, u2):\n",
    "    return result*(np.sqrt((u1/val1)**2+(u2/val2)**2))\n",
    "\n",
    "p_uncertainty = [uncertainty(P[i],V[i],I[i],0.1,0.1) for i in range(len(P))]"
   ]
  },
  {
   "cell_type": "code",
   "execution_count": 75,
   "id": "tight-romantic",
   "metadata": {},
   "outputs": [
    {
     "data": {
      "image/png": "[encoded data removed]",
      "text/plain": [
       "<Figure size 640x480 with 1 Axes>"
      ]
     },
     "metadata": {},
     "output_type": "display_data"
    }
   ],
   "source": [
    "plt.errorbar(V, I, xerr=v_uncertainty, yerr=i_uncertainty, color='blue',ls='none',fmt='o', solid_capstyle='projecting', capsize=10)\n",
    "plt.xlabel(\"Voltage (V)\")\n",
    "plt.ylabel(\"Current (I)\")\n",
    "plt.show()"
   ]
  },
  {
   "cell_type": "markdown",
   "id": "destroyed-mystery",
   "metadata": {},
   "source": [
    "<center><figcaption>Plot. 1: I vs V Plot</figcaption></center>\n",
    "\n",
    "This plot shows that the Solar panel is a current source since the current stays relatively constant with varying voltages. The tapering off of the graph indicates that the Solar Panel is not ideal which is why the shape is not completely rectangular. This may be due to a number of reasons such as not having the panel at the optimum angle, the temperature being low during the run, and the innate inefficiencies of commercial solar panels."
   ]
  },
  {
   "cell_type": "code",
   "execution_count": 10,
   "id": "removed-direction",
   "metadata": {},
   "outputs": [
    {
     "data": {
      "image/png": "[encoded data removed]",
      "text/plain": [
       "<Figure size 640x480 with 1 Axes>"
      ]
     },
     "metadata": {},
     "output_type": "display_data"
    }
   ],
   "source": [
    "plt.errorbar(V, P, xerr=v_uncertainty, yerr=p_uncertainty, fmt='o', ecolor='b', capthick=2)\n",
    "plt.xlabel(\"Voltage (V)\")\n",
    "plt.ylabel(\"Power (W)\")\n",
    "plt.show()"
   ]
  },
  {
   "cell_type": "markdown",
   "id": "cooperative-baseline",
   "metadata": {},
   "source": [
    "<center><figcaption>Plot. 2: P vs V plot</figcaption></center>\n",
    "\n",
    "This shape of this graph verifies our expected shape as per the manual. The peak is not at the theoretical max - $(21.4V,100W)$ - which is expected since the experimental conditions were not ideal as discussed previously. This result definitely makes sense."
   ]
  },
  {
   "cell_type": "markdown",
   "id": "coordinate-suspension",
   "metadata": {},
   "source": [
    "---\n",
    "**Some Calculations for max and average power:**"
   ]
  },
  {
   "cell_type": "code",
   "execution_count": 18,
   "id": "secret-commonwealth",
   "metadata": {},
   "outputs": [
    {
     "data": {
      "text/plain": [
       "(61.218, 44.51291764705883)"
      ]
     },
     "execution_count": 18,
     "metadata": {},
     "output_type": "execute_result"
    }
   ],
   "source": [
    "p_max = max(P)\n",
    "p_mean = sum(P)/len(P)\n",
    "p_max, p_mean"
   ]
  },
  {
   "cell_type": "code",
   "execution_count": 21,
   "id": "worthy-foundation",
   "metadata": {},
   "outputs": [
    {
     "data": {
      "text/plain": [
       "0.1747072980730914"
      ]
     },
     "execution_count": 21,
     "metadata": {},
     "output_type": "execute_result"
    }
   ],
   "source": [
    "dp_max = p_max*(np.sqrt((0.01/17.1)**2+(0.01/3.58)**2))\n",
    "dp_max"
   ]
  },
  {
   "cell_type": "code",
   "execution_count": 23,
   "id": "perceived-reggae",
   "metadata": {},
   "outputs": [
    {
     "data": {
      "text/plain": [
       "0.15343216625581438"
      ]
     },
     "execution_count": 23,
     "metadata": {},
     "output_type": "execute_result"
    }
   ],
   "source": [
    "dp_average = p_mean*(np.sqrt((0.01*len(I)/sum(I))**2+(0.01*len(V)/sum(V))**2))\n",
    "dp_average"
   ]
  },
  {
   "cell_type": "code",
   "execution_count": 25,
   "id": "banned-outline",
   "metadata": {},
   "outputs": [
    {
     "data": {
      "text/plain": [
       "487.59585000000004"
      ]
     },
     "execution_count": 25,
     "metadata": {},
     "output_type": "execute_result"
    }
   ],
   "source": [
    "p_exp = 717*0.68005\n",
    "p_exp"
   ]
  },
  {
   "cell_type": "code",
   "execution_count": 27,
   "id": "familiar-closure",
   "metadata": {},
   "outputs": [
    {
     "data": {
      "text/plain": [
       "12.555069941633013"
      ]
     },
     "execution_count": 27,
     "metadata": {},
     "output_type": "execute_result"
    }
   ],
   "source": [
    "eff_max = (p_max*100)/p_exp\n",
    "eff_max"
   ]
  },
  {
   "cell_type": "code",
   "execution_count": 28,
   "id": "decimal-ancient",
   "metadata": {},
   "outputs": [
    {
     "data": {
      "text/plain": [
       "9.129059988320005"
      ]
     },
     "execution_count": 28,
     "metadata": {},
     "output_type": "execute_result"
    }
   ],
   "source": [
    "eff = (p_mean*100)/p_exp\n",
    "eff"
   ]
  },
  {
   "cell_type": "code",
   "execution_count": 30,
   "id": "regional-arabic",
   "metadata": {},
   "outputs": [
    {
     "data": {
      "text/plain": [
       "44.51291764705883"
      ]
     },
     "execution_count": 30,
     "metadata": {},
     "output_type": "execute_result"
    }
   ],
   "source": [
    "eff_system = p_mean * 100 / 100\n",
    "eff_system"
   ]
  },
  {
   "cell_type": "code",
   "execution_count": 35,
   "id": "viral-maryland",
   "metadata": {},
   "outputs": [
    {
     "data": {
      "text/plain": [
       "array([2.24653888e-02, 3.95390842e+03])"
      ]
     },
     "execution_count": 35,
     "metadata": {},
     "output_type": "execute_result"
    }
   ],
   "source": [
    "p_typ = 1,176 * 1000\n",
    "p_gen = p_mean\n",
    "\n",
    "n_sp = p_typ / p_gen\n",
    "n_sp"
   ]
  },
  {
   "cell_type": "markdown",
   "id": "romantic-northwest",
   "metadata": {},
   "source": [
    "---\n",
    "\n",
    "# Experiment 2: Effect of Shadow on Solar Panels\n",
    "\n",
    "The objective of this experiment as defined by the manual is to find out the effect of shadow on the efficiency of solar panels.\n",
    "\n",
    "## Day 2 (02/01/21):\n",
    "\n",
    "We have planned out the experimental design for the shadow experiment on solar panels and collected the required materials for the experiment.\n",
    "\n",
    "We discussed various ways to systematically generate the shadows and ended up using cardboards to quantitatively create the shadows. Thus, we cut cardboard pieces and measured the area of the pieces. Also, we measured the area of the solar panel.\n",
    "\n",
    "$$Area_{SP} = 5990  \\pm 11 cm^2$$\n",
    "$$Area_{P1} = 525  \\pm 5 cm^2$$\n",
    "$$Area_{P2} = 990  \\pm 10 cm^2$$\n",
    "$$Area_{P3} = 2000  \\pm 6 cm^2$$\n",
    "$$Area_{P4} = 3800  \\pm 9 cm^2$$\n",
    "$$Area_{P5} = 1520  \\pm 10 cm^2$$\n",
    "$$Area_{P6} = 2530  \\pm 8 cm^2$$\n",
    "$$Area_{P7} = 2990  \\pm 12 cm^2$$\n",
    "$$Area_{P8} = 4990  \\pm 19 cm^2$$\n",
    "$$Area_{PX} = 5990 \\pm 11 cm^2$$\n",
    "\n",
    "\n",
    "We plan on doing 9 different test cases of effective shadow covering region as described by the following pictures (only 5 shown):\n",
    "\n",
    "<table>\n",
    "  <center>\n",
    "  <tr>\n",
    "     <td>P1</td>\n",
    "     <td>P2</td>\n",
    "     <td>P3</td>\n",
    "     <td>P4</td>\n",
    "     <td>PX</td>\n",
    "  </tr>\n",
    "  <tr>\n",
    "    <td><img src=\"p1.jpeg\" width=270 height=480></td>\n",
    "    <td><img src=\"p2.jpeg\" width=270 height=480></td>\n",
    "    <td><img src=\"p3.jpeg\" width=270 height=480></td>\n",
    "    <td><img src=\"p4.jpeg\" width=270 height=480></td>\n",
    "    <td><img src=\"p5.jpeg\" width=270 height=480></td>\n",
    "  </tr>\n",
    "    </center>\n",
    " </table>\n",
    " <center>\n",
    "           <figcaption>Fig.8: Cardboard cut outs used to generate shadows</figcaption>\n",
    "</center>\n",
    "\n",
    "\n",
    "We went outside to record the data for the experiment starting first with the baseline experiment without any shadow. We are using the load at $\\sim 4.7 \\Omega$ since thats where we expect the theoretical Maximum Potential to be."
   ]
  },
  {
   "cell_type": "code",
   "execution_count": 1,
   "id": "indirect-cement",
   "metadata": {},
   "outputs": [
    {
     "name": "stdout",
     "output_type": "stream",
     "text": [
      "Area (cm^2):  5985 527.2025 992.7499999999999 1519.9524999999999 2000 2527.2025 2992.75 3800 4992.75 5985\n",
      "Errors:  11.39912277326637 5.152091808188204 9.55730218210139 6.403124237432849 8.588364221433554 10.857535401738279 8.218518722981655 11.504000391168283 18.612687320238805 2.894924838267862\n"
     ]
    }
   ],
   "source": [
    "# dimensions (cm)\n",
    "area_sp = 63 * 95 \n",
    "area_p1 = 10.45 * 50.45 \n",
    "area_p2 = 95 * 10.45 \n",
    "\n",
    "area_p5 = area_p1 + area_p2\n",
    "\n",
    "area_p3 = 40*50\n",
    "area_p4 = 40*95\n",
    "\n",
    "area_p5 = area_p1 + area_p2\n",
    "area_p6 = area_p3 + area_p1\n",
    "area_p7 = area_p3 + area_p2\n",
    "area_p8 =2*area_p3 + area_p2\n",
    "area_px = area_sp\n",
    "\n",
    "def uncertainty(result,val1,val2,u1, u2):\n",
    "    return result*(np.sqrt((u1/val1)**2+(u2/val2)**2))\n",
    "\n",
    "u_sp = uncertainty(area_sp,63,95,0.1,0.1)\n",
    "u_p1 = uncertainty(area_p1,10.45,50.45,0.1,0.1)\n",
    "u_p2 = uncertainty(area_p2,95,10.45,0.1,0.1)\n",
    "u_p3 = uncertainty(area_p3,50,40,0.1,0.1)\n",
    "u_p4 = uncertainty(area_p4,50,95,0.1,0.1)\n",
    "u_p5 = np.sqrt(u_p1**2+u_p2**2)\n",
    "u_p6 = np.sqrt(u_p3**2+u_p1**2)\n",
    "u_p7 = np.sqrt(u_p2**2+u_p3**2)\n",
    "u_p8 = np.sqrt(u_p3**2+u_p3**2) + u_p2\n",
    "u_px = uncertainty(area_p5,63,95,0.1,0.1)\n",
    "\n",
    "uncertainty_area = [u_sp,u_p1,u_p2,u_p5,u_p3,u_p6,u_p7,u_p4,u_p8,u_px]\n",
    "\n",
    "print(\"Area (cm^2): \",area_sp,area_p1,area_p2,area_p5,area_p3,area_p6,area_p7,area_p4,area_p8,area_px)\n",
    "\n",
    "print(\"Errors: \", u_sp,u_p1,u_p2,u_p3,u_p4,u_p5,u_p6,u_p7,u_p8,u_px)"
   ]
  },
  {
   "cell_type": "markdown",
   "id": "applied-weekend",
   "metadata": {},
   "source": [
    "We started our baseline test at 1:20 PM. Later, we started our test for the shadow covering at 1:22 PM and finished all tests at 1:30 PM. \n",
    "\n",
    "\n",
    "The sun and the clouds during our experiment   |  Our Solar Panel/Experimental Set Up\n",
    ":-------------------------:|:-------------------------:\n",
    "![](exp2.jpeg)  |  ![](exp2b.jpeg)\n",
    " <center><figcaption>Fig.9: Experimental Set Up</figcaption> </center>\n",
    "\n",
    "The weather, visibility, irradiance and wind index were as belows.\n",
    "\n",
    "<img src=\"weather2.png\" width=900 height=800>\n",
    "<img src=\"header_ir.png\" width=900 height=800>\n",
    "<img src=\"info_ir.png\" width=900 height=800>\n",
    " <center>\n",
    "           <figcaption>Fig.10: Environmental Conditions</figcaption>\n",
    "</center>"
   ]
  },
  {
   "cell_type": "code",
   "execution_count": 2,
   "id": "later-evaluation",
   "metadata": {},
   "outputs": [
    {
     "name": "stderr",
     "output_type": "stream",
     "text": [
      "<ipython-input-1-bd117be46da1>:18: RuntimeWarning: divide by zero encountered in double_scalars\n",
      "  return result*(np.sqrt((u1/val1)**2+(u2/val2)**2))\n",
      "<ipython-input-1-bd117be46da1>:18: RuntimeWarning: invalid value encountered in double_scalars\n",
      "  return result*(np.sqrt((u1/val1)**2+(u2/val2)**2))\n"
     ]
    }
   ],
   "source": [
    "current_areas = np.array([3.78, 3.43,3.40,2.41,2.61,2.88,2.05,1.82,1.13,0.01]) #amperes\n",
    "voltage_areas = np.array([8.15,7.45,7.36,5.82,5.77,5.23,4.93,3.87,1.85,0.03]) #volts\n",
    "\n",
    "v_uncertainty = [0.01 for i in range(len(voltage_areas))]\n",
    "i_uncertainty = [0.01 for i in range(len(current_areas))]\n",
    "\n",
    "power_areas = voltage_areas*current_areas #watts\n",
    "area_mag = np.array([0,area_p1,area_p2,area_p5,area_p3,area_p6,area_p7,area_p4,area_p8,area_px]) #area covered\n",
    "areas = (100/area_sp)*area_mag #percentage area covered\n",
    "\n",
    "p_uncertainty = [uncertainty(power_areas[i],voltage_areas[i],current_areas[i],0.1,0.1) for i in range(len(power_areas))]\n",
    "\n",
    "area_uncertainty = [uncertainty(areas[i], area_mag[i], area_mag[-1],uncertainty_area[i],uncertainty_area[-1]) for i in range(len(power_areas))]"
   ]
  },
  {
   "cell_type": "code",
   "execution_count": 5,
   "id": "accepted-circulation",
   "metadata": {},
   "outputs": [],
   "source": [
    "m1, b1 = np.polyfit(areas, voltage_areas, 1)\n",
    "m2, b2 = np.polyfit(areas, current_areas, 1)\n",
    "a3, b3, c3 = np.polyfit(areas, power_areas, 2)"
   ]
  },
  {
   "cell_type": "code",
   "execution_count": 7,
   "id": "better-force",
   "metadata": {},
   "outputs": [
    {
     "data": {
      "image/png": "[encoded data removed]",
      "text/plain": [
       "<Figure size 640x480 with 1 Axes>"
      ]
     },
     "metadata": {},
     "output_type": "display_data"
    }
   ],
   "source": [
    "plt.errorbar(areas, current_areas, yerr=i_uncertainty, xerr=area_uncertainty, color='green',ls='none',fmt='o',solid_capstyle='projecting', capsize=5,label=\"Current (I)\")\n",
    "plt.errorbar(areas, voltage_areas, yerr=v_uncertainty, xerr=area_uncertainty,color='orange',ls='none',fmt='o',solid_capstyle='projecting', capsize=5,label=\"Voltage (V)\")\n",
    "plt.plot(areas,m1*areas+b1,color='orange', linestyle='dashed')\n",
    "plt.plot(areas,m2*areas+b2,color='green', linestyle='dashed')\n",
    "plt.xlabel(\"Area covered by shadow (%)\")\n",
    "plt.ylabel(\"Current (I)/Voltage (V)\")\n",
    "plt.grid()\n",
    "plt.legend()\n",
    "plt.show()"
   ]
  },
  {
   "cell_type": "markdown",
   "id": "alternate-settlement",
   "metadata": {},
   "source": [
    "<center><figcaption>Plot. 3: I and V vs Shadow Area</figcaption></center>\n",
    "\n",
    "\n",
    "The plots validate our hypothesis that as the area spanned by the shadow increases the registered voltage and current drops linearly. This phenomenon is due to the fact that photons from the sun are now being blocked by the *cardboard box* (shadow) and are not freeing up electrons in the n-p junction to generate current/voltage through the panel."
   ]
  },
  {
   "cell_type": "code",
   "execution_count": 8,
   "id": "enabling-representative",
   "metadata": {},
   "outputs": [
    {
     "data": {
      "image/png": "[encoded data removed]",
      "text/plain": [
       "<Figure size 640x480 with 1 Axes>"
      ]
     },
     "metadata": {},
     "output_type": "display_data"
    }
   ],
   "source": [
    "#plt.plot(areas,power_areas,'X')\n",
    "plt.errorbar(areas, power_areas, xerr=area_uncertainty, yerr=p_uncertainty, ls='none',fmt='o',solid_capstyle='projecting',color=\"orange\", capsize=5)\n",
    "plt.plot(areas,a3*areas**2+b3*areas+c3,color=\"orange\",linestyle='dashed')\n",
    "plt.xlabel(\"Area covered by shadow (%)\")\n",
    "plt.ylabel(\"Power (W)\")\n",
    "plt.grid()\n",
    "plt.show()"
   ]
  },
  {
   "cell_type": "markdown",
   "id": "discrete-sterling",
   "metadata": {},
   "source": [
    "<center><figcaption>Plot. 4: P vs Shadow Area</figcaption></center>\n",
    "\n",
    "\n",
    "This plot is also expected since $P=IV$ and both $I \\& V$ decrease linearly with increasing shadow area making $P$ decreasing quadratically. The apparent misfits of points 3 and 4 seem to defy the overall quadratic trend of decrease and results in a not super fit. However, this can be explained due to the fact that we took these trial points in very quick succession which was initially done with the intention of keeping environmental effects at a minimum and due to this very same nature this also makes our data fall victim to fleeting trends which in our case was some moving clouds that momentarily diminished the irradiance of the sun causing the $4,5,6$ point cluster to be lower and a gust of wind lifting up the cardboard boxes causing the $3$ point to be higher."
   ]
  },
  {
   "cell_type": "markdown",
   "id": "norman-potter",
   "metadata": {},
   "source": [
    "Using http://rain.ttu.edu/tech/1-output/mesonet.php to find the solar irradiance to calculate expected power. The metric for efficiency is defined as follows:\n",
    "\n",
    "$$\\text{efficiency} = \\frac{P_{i}}{\\text{Solar Irradiance}*Area_{SP}}$$"
   ]
  },
  {
   "cell_type": "code",
   "execution_count": 9,
   "id": "valid-chuck",
   "metadata": {},
   "outputs": [],
   "source": [
    "expected_power = ((666+691)/2)*(area_sp*0.0001)\n",
    "effeciency_areas = 100*(power_areas / expected_power)\n",
    "effeciency_det = 100*(power_areas/power_areas[0])\n",
    "m4, b4, c4 = np.polyfit(areas, effeciency_areas, 2)"
   ]
  },
  {
   "cell_type": "code",
   "execution_count": 11,
   "id": "numerous-style",
   "metadata": {},
   "outputs": [],
   "source": [
    "ea_uncertainty = [uncertainty(effeciency_areas[i], power_areas[i], expected_power, p_uncertainty[i], 0.05*expected_power) for i in range(len(power_areas))]\n",
    "ed_uncertainty = [uncertainty(effeciency_det[i], power_areas[i], power_areas[0], p_uncertainty[i], p_uncertainty[0]) for i in range(len(power_areas))]"
   ]
  },
  {
   "cell_type": "code",
   "execution_count": 12,
   "id": "solved-investigator",
   "metadata": {},
   "outputs": [
    {
     "data": {
      "image/png": "[encoded data removed]",
      "text/plain": [
       "<Figure size 640x480 with 1 Axes>"
      ]
     },
     "metadata": {},
     "output_type": "display_data"
    }
   ],
   "source": [
    "plt.errorbar(areas, effeciency_areas, xerr=area_uncertainty, yerr=ea_uncertainty, ls='none',fmt='o',solid_capstyle='projecting',color=\"orange\", capsize=5)\n",
    "plt.plot(areas,m4*areas**2+b4*areas+c4,'orange')\n",
    "plt.xlabel(\"Area covered by shadow (%)\")\n",
    "plt.ylabel(\"Efficiency (%)\")\n",
    "plt.grid()\n",
    "plt.show()"
   ]
  },
  {
   "cell_type": "markdown",
   "id": "satisfactory-pontiac",
   "metadata": {},
   "source": [
    "<center><figcaption>Plot. 5: Efficiency vs Shadow Area</figcaption></center>\n",
    "\n",
    "The results (small initial efficiency) make sense largely due to the flat angle of the solar panel, unideal experimental conditions and the mesonet data itself (given vertical irradiance while the experiment needed horizontal). Using a different (and better) metric for efficiency:\n",
    "\n",
    "$$\\text{efficiency} = \\frac{P_{i}}{P_{0}}$$\n",
    "\n",
    "Here, $P_i$ is each of the power measured in the experiment and $P_0$ is the power measured with **no shadows**."
   ]
  },
  {
   "cell_type": "code",
   "execution_count": 13,
   "id": "ruled-heavy",
   "metadata": {},
   "outputs": [
    {
     "data": {
      "image/png": "[encoded data removed]",
      "text/plain": [
       "<Figure size 640x480 with 1 Axes>"
      ]
     },
     "metadata": {},
     "output_type": "display_data"
    }
   ],
   "source": [
    "plt.errorbar(areas, effeciency_det, xerr=area_uncertainty, yerr=ed_uncertainty, ls='none',fmt='o',solid_capstyle='projecting',color=\"orange\", capsize=5)\n",
    "plt.xlabel(\"Area covered by shadow (%)\")\n",
    "plt.ylabel(\"Efficiency (%)\")\n",
    "plt.grid()\n",
    "plt.show()"
   ]
  },
  {
   "cell_type": "markdown",
   "id": "earned-husband",
   "metadata": {},
   "source": [
    "<center><figcaption>Plot. 6: Efficiency vs Shadow Area</figcaption></center>\n",
    "\n",
    "The plot clearly shows the expected results of decreasing efficiency with increasing area of shadow."
   ]
  },
  {
   "cell_type": "markdown",
   "id": "acute-swaziland",
   "metadata": {},
   "source": [
    "# Conclusion & Summary\n",
    "\n",
    "In conclusion, both of our experiments were a success as our results validated the theory and any differences were well explained within the scope of the experiments.\n",
    "\n",
    "For experiment 1 (see Section 3), we have designed a circuit (Fig 7) capable of generating the $(V,I)$ pairs we needed to calculate the maximum power attainable by our solar panel and to also create the necessary plots - V vs I \\& P vs V. This logbook explains the methodology behind the experiment and associated struggles and observations in details the summary of which is - \n",
    "\n",
    "- Solar Panel is a current source\n",
    "- Solar Panels installation need multiple conditions to be satisfied (operating temperature, angle to the sun, solar irradiance, shadows) to work at peak efficiency\n",
    "- There is a maximum power limit that can be generated by the solar panel\n",
    "- The errors associated with the experiments were largely random errors - environmental conditions like the sun and cloud movements - and instrumentation errors - precision of multimeter readings.\n",
    "\n",
    "\n",
    "For experiment 2 (see Section 4), we devised a method to systematically generate shadows and record the associated voltage and power for each trial run. Again, this logbook explains the methodology behind the experiment and associated struggles and observations in details. The summary of the experiment is as below:\n",
    "\n",
    "- Voltage and Current decreases linearly as the area of the panel being covered by the shadow increases\n",
    "- The trend stated above is due to the fact that photons (from the sun) cannot hit the solar panel \n",
    "- Since, the voltage and current both decrease linearly with increasing area - the power decreases quadratically.\n",
    "- We also established that these experiments are very sensitive to environmental conditions and to experiment duration with a gust of wind and some fleeting shadows making our almost 'pure' dataset a little 'dirty'\n",
    "- Just like the other experiment, the errors associated with the experiments were largely random errors - environmental conditions like the sun and cloud movements - and instrumentation errors - precision of multimeter readings."
   ]
  },
  {
   "cell_type": "markdown",
   "id": "seeing-topic",
   "metadata": {},
   "source": [
    "# Project Questions:\n",
    "\n",
    "1. Plot V vs I, as shown above. Discuss your circuit to collect data. Calculate maximum and average power output. Make sure to include uncertainties, P ± ∆P .\n",
    "\n",
    "**Solution:**\n",
    "\n",
    "The plot is shown in section 3 labeled as Plot 1. The circuit used to collect data is in section 3 labeled Fig 7.\n",
    "\n",
    "We basically connect the load to the Solar Panel and have a voltmeter connected in parallel and ammeter in series to the resistor to measure the voltage and current respectively. In our experiment, we used a variable resistor instead of a fixed one to record the $(V,I)$ pairs needed to make the plot.\n",
    "\n",
    "Using the calculation performed in Section 3, we get the following:\n",
    "\n",
    "$$\\delta P_{max} \\simeq \\pm 0.2 $$\n",
    "$$\\delta P_{average} \\simeq  \\pm 0.2 $$\n",
    "$$P_{max} = 61.2 \\pm 0.2 $$\n",
    "$$P_{average} = 44.5 \\pm 0.2 $$\n",
    "\n",
    "---\n",
    "\n",
    "\n",
    "2. Is a solar panel a current source, voltage source, or both? Include a plot or diagram to explain your reasoning.\n",
    "\n",
    "**Solution:**\n",
    "\n",
    "A solar panel is a current source. The I-V characteristics curve (Refer to section 3 Plot 1) presents an important property of a photovoltaic solar panel, or cell in that it shows it to be a current source device rather than a voltage source device, like a battery. Unlike a battery which has a constant terminal voltage, (12V, 24V, etc.) and provides variable amounts of current to a connected load, the photovoltaic cell or panel provides a constant supply of current over a wide range of voltages for a given amount of solar insolation.\n",
    "\n",
    "---\n",
    "\n",
    "3. What is the efficiency of your solar panel? You can easily find out what the irradiance at the moment you are making your measurements outside. See West Texas Mesonet data for all kinds of weather related minute by minute information. For example, see http://rain.ttu.edu/tech/1-output/mesonet.php.\n",
    "\n",
    "**Solution:**\n",
    "\n",
    "Using solar irradiance, $SI$, data from http://rain.ttu.edu/tech/1-output/mesonet.php to calculate the expected power, P_{exp}.\n",
    "\n",
    "$$P_{exp} = SI * Area_{SP} $$\n",
    "\n",
    "The average efficiency,$ E_{\\mu} $, for our solar panel is (calculation done in section 3)\n",
    "\n",
    "$$ E_{\\mu} = \\frac{P_{\\mu}}{P_{exp}}*100 \\approx 44.5 \\%$$\n",
    "\n",
    "---\n",
    "\n",
    "4. How much power is generated per solar panel?\n",
    "\n",
    "**Solution:**\n",
    "\n",
    "The power generated by *our particular solar panel* was roughly $45 W$. (calculation done in section 3)\n",
    "\n",
    "---\n",
    "\n",
    "5. Explain the p-n junction.\n",
    "\n",
    "**Solution:**\n",
    "\n",
    "A p–n junction is a boundary or interface between two types of semiconductor materials, p-type and n-type, inside a single crystal of semiconductor. The \"p\" (positive) side contains an excess of holes, while the \"n\" (negative) side contains an excess of electrons in the outer shells of the electrically neutral atoms there. This allows electrical current to pass through the junction only in one direction. The p-n junction is created by doping, for example by ion implantation or diffusion of dopants. If two separate pieces of material were used, this would introduce a grain boundary between the semiconductors that would severely inhibit its utility by scattering the electrons and holes.\n",
    "\n",
    "---\n",
    "\n",
    "6. Explain the differences between the photovoltaic effect and the photoelectric effect. Why is this an important idea to understand?\n",
    "\n",
    "**Solution:**\n",
    "\n",
    "**Photoelectric Effect** - When electrically charged particles are released from a material absorbing electromagnetic radiation.\n",
    "\n",
    "**Photovoltaic Effect** - When light is absorbed into a material and excites electrons that stay within the material rather than ejecting them, generating a voltage and electric current.\n",
    "\n",
    "It is important to understand these two concepts as Solar Panels operating logic relies on both these phenomenon.\n",
    "\n",
    "---\n",
    "\n",
    "7. Why are solar panels typically made of silicon? Could we use some other material?\n",
    "\n",
    "**Solution:**\n",
    "\n",
    "\n",
    "They are most commonly made of silicon because silicon is the second most abundant material on Earth making it economically feasible. Moreover, it has high longevity - able to operate at 80% for decades. In addition, Solar cells operate under sunlight, which has a characteristic spectrum. As a consequence, for a standard solar cell where each absorbed photon generates a single electron--hole pair, there is an optimum band gap to acheive the highest efficiency thermodynamically possible for this illumination (so-called Shockley--Queisser limit; cf. https://en.wikipedia.org/wiki/Shockley%E2%80%93Queisser_limit). Since this value is about 1.3 eV, the band gap of silicon is much closer to this optimum value making it an obvious choice. The crystalline diamond shape (lattice parameter of 0.543 nm) of Si also makes it a good candidate since electron transitions in such a structure is facilitated.\n",
    "\n",
    "---\n",
    "\n",
    "8. Based on your measurements, estimate how many solar panels you would need to power a typical house. Make an estimate of the cost. Argue if it makes sense to go solar or not in Lubbock.\n",
    "\n",
    "**Solution:**\n",
    "\n",
    "$$ C_{SP} = \\frac{P_{house}}{P_{gen}}(C_{perWatt}) $$\n",
    "\n",
    "Makes sense if \n",
    "\n",
    "$$ C_{SP} < C_{electricity}  $$\n",
    "\n",
    "\n",
    "---"
   ]
  }
 ],
 "metadata": {
  "hide_input": false,
  "kernelspec": {
   "display_name": "Python 3",
   "language": "python",
   "name": "python3"
  },
  "language_info": {
   "codemirror_mode": {
    "name": "ipython",
    "version": 3
   },
   "file_extension": ".py",
   "mimetype": "text/x-python",
   "name": "python",
   "nbconvert_exporter": "python",
   "pygments_lexer": "ipython3",
   "version": "3.8.3"
  },
  "toc": {
   "base_numbering": 1,
   "nav_menu": {},
   "number_sections": true,
   "sideBar": true,
   "skip_h1_title": false,
   "title_cell": "Table of Contents",
   "title_sidebar": "Contents",
   "toc_cell": false,
   "toc_position": {},
   "toc_section_display": true,
   "toc_window_display": true
  },
  "varInspector": {
   "cols": {
    "lenName": 16,
    "lenType": 16,
    "lenVar": 40
   },
   "kernels_config": {
    "python": {
     "delete_cmd_postfix": "",
     "delete_cmd_prefix": "del ",
     "library": "var_list.py",
     "varRefreshCmd": "print(var_dic_list())"
    },
    "r": {
     "delete_cmd_postfix": ") ",
     "delete_cmd_prefix": "rm(",
     "library": "var_list.r",
     "varRefreshCmd": "cat(var_dic_list()) "
    }
   },
   "types_to_exclude": [
    "module",
    "function",
    "builtin_function_or_method",
    "instance",
    "_Feature"
   ],
   "window_display": false
  }
 },
 "nbformat": 4,
 "nbformat_minor": 5
}
